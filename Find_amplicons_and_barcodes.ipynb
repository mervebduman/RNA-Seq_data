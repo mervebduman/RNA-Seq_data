{
 "cells": [
  {
   "cell_type": "code",
   "execution_count": null,
   "id": "69d3e3d6",
   "metadata": {},
   "outputs": [],
   "source": [
    "import mmap"
   ]
  },
  {
   "cell_type": "code",
   "execution_count": null,
   "id": "b42c117f",
   "metadata": {},
   "outputs": [],
   "source": [
    "with open('test_seq.txt', 'r') as f:\n",
    "    # memory-map the file, size 0 means whole file\n",
    "    mm = mmap.mmap(f.fileno(), 0)\n",
    "    # read content via standard file methods\n",
    "    print(mm.readline())\n",
    "    # close the map\n",
    "    mm.close()"
   ]
  },
  {
   "cell_type": "code",
   "execution_count": null,
   "id": "07aba902",
   "metadata": {},
   "outputs": [],
   "source": [
    "with open('test_seq.txt', 'r') as file:\n",
    "    mm = mmap.mmap(file.fileno(), 0)\n",
    "    #mmap.mmap(file.fileno(), 0, access=mmap.ACCESS_READ) as s:\n",
    "    if mm.find('GGAGGGTTGCAGGCTACACAGGTTACGCTCACCACCACACACACCCCNGGTTACGCTNGCCTGNGTNNAGATCGNANNANCANNCGTCNGAANTNCNNTCNCNNTCCTTTATCTCGTATGNNNTNNNCNGCTNGAANAANAAAAGGNGGG') != -1:\n",
    "        print('true')"
   ]
  },
  {
   "cell_type": "code",
   "execution_count": null,
   "id": "cce21b06",
   "metadata": {},
   "outputs": [],
   "source": [
    "with open('test_seq.txt') as f:\n",
    "    if 'GGAGGGTTGCAGGCTACACAGGTTACGCTCACCACCACACACACCCCNGGTTACGCTNGCCTGNGTNNAGATCGNANNANCANNCGTCNGAANTNCNNTCNCNNTCCTTTATCTCGTATGNNNTNNNCNGCTNGAANAANAAAAGGNGGG' in f.read():\n",
    "        print(\"true\")"
   ]
  },
  {
   "cell_type": "code",
   "execution_count": null,
   "id": "bf313c60",
   "metadata": {},
   "outputs": [],
   "source": [
    "with open('test_seq.txt') as f:\n",
    "    if 'GGAGGGTTGCAGG' in f.read():\n",
    "        print(\"true\")"
   ]
  },
  {
   "cell_type": "code",
   "execution_count": null,
   "id": "e4def59a",
   "metadata": {},
   "outputs": [],
   "source": [
    "barcodes = []\n",
    "with open('barcodes.fa', 'r') as f:\n",
    "    lines = f.readlines()\n",
    "    for line in lines:\n",
    "        if not line.startswith('>'):\n",
    "            print(line)\n",
    "            barcodes.append(line.strip())"
   ]
  },
  {
   "cell_type": "code",
   "execution_count": null,
   "id": "1e3025c1",
   "metadata": {},
   "outputs": [],
   "source": [
    "barcodes"
   ]
  },
  {
   "cell_type": "code",
   "execution_count": null,
   "id": "026db5c8",
   "metadata": {},
   "outputs": [],
   "source": [
    "with open('R1_seq.txt') as f:\n",
    "    if 'GGAGGGTTGCAGG' in f.read():\n",
    "        print(\"true\")"
   ]
  },
  {
   "cell_type": "code",
   "execution_count": null,
   "id": "728a2a5d",
   "metadata": {},
   "outputs": [],
   "source": [
    "amplicons = {}\n",
    "amp_file = open('amplicons.fa')\n",
    "for line in amp_file:\n",
    "    key, value = line.split()\n",
    "    amplicons[key] = value\n",
    "    \n",
    "print(amplicons)"
   ]
  },
  {
   "cell_type": "code",
   "execution_count": null,
   "id": "0aa52fe2",
   "metadata": {},
   "outputs": [],
   "source": [
    "amplicons = {}\n",
    "with open('amplicons.fa', 'r') as f:\n",
    "    lines = f.readlines()\n",
    "    for line in lines:\n",
    "        if line.startswith('>'):\n",
    "            key = line\n",
    "            amplicons[key] = value\n",
    "        else:\n",
    "            value = line\n",
    "            amplicons[key] = value\n",
    "    \n",
    "print(amplicons)"
   ]
  },
  {
   "cell_type": "code",
   "execution_count": 1,
   "id": "7945ab61",
   "metadata": {},
   "outputs": [
    {
     "ename": "ValueError",
     "evalue": "not enough values to unpack (expected 2, got 1)",
     "output_type": "error",
     "traceback": [
      "\u001b[0;31m---------------------------------------------------------------------------\u001b[0m",
      "\u001b[0;31mValueError\u001b[0m                                Traceback (most recent call last)",
      "\u001b[0;32m/var/folders/r9/yr71vk1x07q8tkck__lk08t00000gn/T/ipykernel_27612/489934909.py\u001b[0m in \u001b[0;36m<module>\u001b[0;34m\u001b[0m\n\u001b[1;32m      3\u001b[0m     \u001b[0mlines\u001b[0m \u001b[0;34m=\u001b[0m \u001b[0mf\u001b[0m\u001b[0;34m.\u001b[0m\u001b[0mreadlines\u001b[0m\u001b[0;34m(\u001b[0m\u001b[0;34m)\u001b[0m\u001b[0;34m\u001b[0m\u001b[0;34m\u001b[0m\u001b[0m\n\u001b[1;32m      4\u001b[0m     \u001b[0;32mfor\u001b[0m \u001b[0mline\u001b[0m \u001b[0;32min\u001b[0m \u001b[0mlines\u001b[0m\u001b[0;34m:\u001b[0m\u001b[0;34m\u001b[0m\u001b[0;34m\u001b[0m\u001b[0m\n\u001b[0;32m----> 5\u001b[0;31m         \u001b[0mkey\u001b[0m\u001b[0;34m,\u001b[0m \u001b[0mvalue\u001b[0m \u001b[0;34m=\u001b[0m \u001b[0mline\u001b[0m\u001b[0;34m.\u001b[0m\u001b[0mstrip\u001b[0m\u001b[0;34m(\u001b[0m\u001b[0;34m)\u001b[0m\u001b[0;34m.\u001b[0m\u001b[0msplit\u001b[0m\u001b[0;34m(\u001b[0m\u001b[0;34m)\u001b[0m\u001b[0;34m\u001b[0m\u001b[0;34m\u001b[0m\u001b[0m\n\u001b[0m\u001b[1;32m      6\u001b[0m         \u001b[0mamplicons\u001b[0m\u001b[0;34m[\u001b[0m\u001b[0mkey\u001b[0m\u001b[0;34m]\u001b[0m \u001b[0;34m=\u001b[0m \u001b[0mvalue\u001b[0m\u001b[0;34m\u001b[0m\u001b[0;34m\u001b[0m\u001b[0m\n\u001b[1;32m      7\u001b[0m \u001b[0;34m\u001b[0m\u001b[0m\n",
      "\u001b[0;31mValueError\u001b[0m: not enough values to unpack (expected 2, got 1)"
     ]
    }
   ],
   "source": [
    "amplicons = {}\n",
    "with open('amplicons.fa', 'r') as f:\n",
    "    lines = f.readlines()\n",
    "    for line in lines:\n",
    "        key, value = line.strip().split()\n",
    "        amplicons[key] = value\n",
    "    \n",
    "print(amplicons)"
   ]
  },
  {
   "cell_type": "code",
   "execution_count": null,
   "id": "5c6bee18",
   "metadata": {},
   "outputs": [],
   "source": [
    "y = {} \n",
    "with open(\"stuff.txt\", \"r\") as infile: \n",
    "    for line in infile: \n",
    "        key, value = line.strip().split(':') \n",
    "        y[key] = (value) \n",
    "\n",
    "print(y) "
   ]
  },
  {
   "cell_type": "code",
   "execution_count": 2,
   "id": "37afb325",
   "metadata": {},
   "outputs": [
    {
     "name": "stdout",
     "output_type": "stream",
     "text": [
      ">PER1\n",
      " TGTTGGGCCGCCACAAAGTAcgcacggcccccctgaatgaggacgtgttcactcccccggcccccagcccagctccctccctggacactgatatccaggagcTGTCAGAGCAGATCCACCGG\n",
      "\n",
      ">PER2\n",
      " CTACCACCCCTTCCGCATGAcgccctacctggtcaaggtgcgggaccaacaaggtgctgagagtcagctttgctgccttctgctggcagagagagtgcactctggttatgaagcccctagaattcctcctgaaaagagaatttttacaaccacccatacaccaaattgtttgttccaggaTGTGGATGAAAGGGCGGTCC\n",
      "\n",
      ">PER3\n",
      " TACATCACCCTGCCCAGCCAgaattggaatcggaaccttgctgtctcactgtggttgaaaagattcactctggttatgaagctcctcggatcccagtgaataaaagaatcTTCACCACCACACACACCCC\n",
      "\n",
      ">CRY1\n",
      " GCTTCGTCAGGAGGGTTGGAttcatcatctagccaggcatgcagttgcttgcttcctgacacgaggggacctgtggattagttgggaagaaggaatgaaggtatttgaagaattattgcttgatgcagattggagcataaaTGCTGGAAGTTGGATGTGGCT\n",
      "\n",
      ">CRY2\n",
      " ATCATCGTGGGAGGGGAGCAgggcacaggggatggtgtgcattcagagcattgggttgggggcttccctgttcccTCAGCCCCAGTCGAGAGGAA\n",
      "\n",
      ">ARNTL\n",
      " AGGCCCCTAACTCCTCCCAAgctggatctggggtgtaagaactgtgacttcagatcatccaatggcagaccagagaatggacatttcttcaaccatcagTGATTTCATGTCCCCGGGCC\n",
      "\n",
      ">NR1D1\n",
      " CCTAAGCCGCACCACCTACAgcctgcaggagcttggtgccatgggcatgggagacctgctcagtgccatgttcgacttcagcgagaagcTCAACTCCCTGGCGCTTACC\n",
      "\n",
      ">NR1D2\n",
      " CGAGTGCACCTGGGATGACAaaaagtcatagtggtgtgacaaaatttagtggcatggttctactgtgtaaagtcTGTGGGGATGTGGCGTCAG\n",
      "\n",
      ">TEF\n",
      " CACGCACCTCATTCTCCCCAgacagtctttgagtaacatctgttcccatcttccttggaagcaggacacaccagctcctccgtcagtgtctgcatgggtagcaggctgcaggagtggggTCTCTGCACAGCCTGGGATG\n",
      "\n",
      ">DBP\n",
      " CCGACCGCTTGATCTGGACAccccctcgcccagattgcatgatctcccgggaccctcttgagttgcacgtttctgcaccgaggacctcaaatccccgtcgctcctaggatttgcagcgttctggatacTGGAGGGTTGCAGGCTACAC\n",
      "\n",
      ">GAPDH\n",
      " TGGGGAAGGTGAAGGTCGGAgtcaacggatttggtcgtattgggcgcctggtcaccagggctgcttttaactctggtaaagtggatattgttgccatcaatgaccccttcattgacctcaactacatggtttacatgttccaatatgattccacccatggcaaattccatggcaccgTCAAGGCTGAGAACGGGAAGC\n",
      "\n",
      ">CLTC\n",
      " CGTGTGGTGGGAGCTATGCAgctatattctgtagataggaaagtgtctcagcccattgaaggacatgcagctagctttgcacagtttaagatggaaggaaatgcagaagaatcaacgttattTTGTTTTGCAGTTCGGGGCC\n"
     ]
    }
   ],
   "source": [
    "with open('amplicons.fa') as f:\n",
    "    for line1, line2 in zip(f, f):\n",
    "        print(line1, line2)"
   ]
  },
  {
   "cell_type": "code",
   "execution_count": null,
   "id": "b35035ac",
   "metadata": {},
   "outputs": [],
   "source": []
  }
 ],
 "metadata": {
  "kernelspec": {
   "display_name": "Python 3 (ipykernel)",
   "language": "python",
   "name": "python3"
  },
  "language_info": {
   "codemirror_mode": {
    "name": "ipython",
    "version": 3
   },
   "file_extension": ".py",
   "mimetype": "text/x-python",
   "name": "python",
   "nbconvert_exporter": "python",
   "pygments_lexer": "ipython3",
   "version": "3.8.8"
  }
 },
 "nbformat": 4,
 "nbformat_minor": 5
}
