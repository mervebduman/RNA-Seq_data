{
 "cells": [
  {
   "cell_type": "code",
   "execution_count": null,
   "id": "bf313c60",
   "metadata": {},
   "outputs": [],
   "source": [
    "with open('test_seq.txt') as f:\n",
    "    if 'GGAGGGTTGCAGG' in f.read():\n",
    "        print(\"true\")"
   ]
  },
  {
   "cell_type": "code",
   "execution_count": 2,
   "id": "dac872f4",
   "metadata": {},
   "outputs": [
    {
     "data": {
      "text/plain": [
       "{'>PER1': 'TGTTGGGCCGCCACAAAGTAcgcacggcccccctgaatgaggacgtgttcactcccccggcccccagcccagctccctccctggacactgatatccaggagcTGTCAGAGCAGATCCACCGG',\n",
       " '>PER2': 'CTACCACCCCTTCCGCATGAcgccctacctggtcaaggtgcgggaccaacaaggtgctgagagtcagctttgctgccttctgctggcagagagagtgcactctggttatgaagcccctagaattcctcctgaaaagagaatttttacaaccacccatacaccaaattgtttgttccaggaTGTGGATGAAAGGGCGGTCC',\n",
       " '>PER3': 'TACATCACCCTGCCCAGCCAgaattggaatcggaaccttgctgtctcactgtggttgaaaagattcactctggttatgaagctcctcggatcccagtgaataaaagaatcTTCACCACCACACACACCCC',\n",
       " '>CRY1': 'GCTTCGTCAGGAGGGTTGGAttcatcatctagccaggcatgcagttgcttgcttcctgacacgaggggacctgtggattagttgggaagaaggaatgaaggtatttgaagaattattgcttgatgcagattggagcataaaTGCTGGAAGTTGGATGTGGCT',\n",
       " '>CRY2': 'ATCATCGTGGGAGGGGAGCAgggcacaggggatggtgtgcattcagagcattgggttgggggcttccctgttcccTCAGCCCCAGTCGAGAGGAA',\n",
       " '>ARNTL': 'AGGCCCCTAACTCCTCCCAAgctggatctggggtgtaagaactgtgacttcagatcatccaatggcagaccagagaatggacatttcttcaaccatcagTGATTTCATGTCCCCGGGCC',\n",
       " '>NR1D1': 'CCTAAGCCGCACCACCTACAgcctgcaggagcttggtgccatgggcatgggagacctgctcagtgccatgttcgacttcagcgagaagcTCAACTCCCTGGCGCTTACC',\n",
       " '>NR1D2': 'CGAGTGCACCTGGGATGACAaaaagtcatagtggtgtgacaaaatttagtggcatggttctactgtgtaaagtcTGTGGGGATGTGGCGTCAG',\n",
       " '>TEF': 'CACGCACCTCATTCTCCCCAgacagtctttgagtaacatctgttcccatcttccttggaagcaggacacaccagctcctccgtcagtgtctgcatgggtagcaggctgcaggagtggggTCTCTGCACAGCCTGGGATG',\n",
       " '>DBP': 'CCGACCGCTTGATCTGGACAccccctcgcccagattgcatgatctcccgggaccctcttgagttgcacgtttctgcaccgaggacctcaaatccccgtcgctcctaggatttgcagcgttctggatacTGGAGGGTTGCAGGCTACAC',\n",
       " '>GAPDH': 'TGGGGAAGGTGAAGGTCGGAgtcaacggatttggtcgtattgggcgcctggtcaccagggctgcttttaactctggtaaagtggatattgttgccatcaatgaccccttcattgacctcaactacatggtttacatgttccaatatgattccacccatggcaaattccatggcaccgTCAAGGCTGAGAACGGGAAGC',\n",
       " '>CLTC': 'CGTGTGGTGGGAGCTATGCAgctatattctgtagataggaaagtgtctcagcccattgaaggacatgcagctagctttgcacagtttaagatggaaggaaatgcagaagaatcaacgttattTTGTTTTGCAGTTCGGGGCC'}"
      ]
     },
     "execution_count": 2,
     "metadata": {},
     "output_type": "execute_result"
    }
   ],
   "source": [
    "with open('amplicons.fa', 'r') as f:\n",
    "    amplicons = {name.strip():seq.strip() for name, seq in zip(f, f)}\n",
    "\n",
    "amplicons"
   ]
  },
  {
   "cell_type": "code",
   "execution_count": 1,
   "id": "a7654da0",
   "metadata": {},
   "outputs": [
    {
     "data": {
      "text/plain": [
       "{'>L01': 'CCACCTTCTCGATGCGCATTC',\n",
       " '>L02': 'CCACCAGTAGCATGCGCATTC',\n",
       " '>L03': 'CCACCTAACGCATGCGCATTC',\n",
       " '>L04': 'CCAGGCCGATTATGCGCATTC',\n",
       " '>L05': 'CCACGTTCGTCATGCGCATTC',\n",
       " '>R01': 'CCAGCCACCTTAGCGTAACCT',\n",
       " '>R02': 'CCACTCAGGCAAGCGTAACCT',\n",
       " '>R03': 'CCAGTACAGCGAGCGTAACCT',\n",
       " '>R04': 'CCACTCGAGCTAGCGTAACCT',\n",
       " '>R05': 'CCAGCGACACAAGCGTAACCT'}"
      ]
     },
     "execution_count": 1,
     "metadata": {},
     "output_type": "execute_result"
    }
   ],
   "source": [
    "with open('barcodes.fa', 'r') as f:\n",
    "    barcodes = {name.strip():seq.strip() for name, seq in zip(f, f)}\n",
    "barcodes"
   ]
  },
  {
   "cell_type": "code",
   "execution_count": 7,
   "id": "10317ef0",
   "metadata": {},
   "outputs": [
    {
     "ename": "TypeError",
     "evalue": "'in <string>' requires string as left operand, not dict",
     "output_type": "error",
     "traceback": [
      "\u001b[0;31m---------------------------------------------------------------------------\u001b[0m",
      "\u001b[0;31mTypeError\u001b[0m                                 Traceback (most recent call last)",
      "\u001b[0;32m/var/folders/r9/yr71vk1x07q8tkck__lk08t00000gn/T/ipykernel_27750/2799563755.py\u001b[0m in \u001b[0;36m<module>\u001b[0;34m\u001b[0m\n\u001b[1;32m      1\u001b[0m \u001b[0;32mwith\u001b[0m \u001b[0mopen\u001b[0m\u001b[0;34m(\u001b[0m\u001b[0;34m'R1_seq.txt'\u001b[0m\u001b[0;34m,\u001b[0m \u001b[0;34m'r'\u001b[0m\u001b[0;34m)\u001b[0m \u001b[0;32mas\u001b[0m \u001b[0mf\u001b[0m\u001b[0;34m:\u001b[0m\u001b[0;34m\u001b[0m\u001b[0;34m\u001b[0m\u001b[0m\n\u001b[0;32m----> 2\u001b[0;31m         \u001b[0;32mif\u001b[0m \u001b[0mbarcodes\u001b[0m \u001b[0;32min\u001b[0m \u001b[0mf\u001b[0m\u001b[0;34m.\u001b[0m\u001b[0mread\u001b[0m\u001b[0;34m(\u001b[0m\u001b[0;34m)\u001b[0m\u001b[0;34m:\u001b[0m\u001b[0;34m\u001b[0m\u001b[0;34m\u001b[0m\u001b[0m\n\u001b[0m\u001b[1;32m      3\u001b[0m             \u001b[0mcount\u001b[0m \u001b[0;34m=\u001b[0m \u001b[0mcount\u001b[0m \u001b[0;34m+\u001b[0m \u001b[0;36m1\u001b[0m\u001b[0;34m\u001b[0m\u001b[0;34m\u001b[0m\u001b[0m\n\u001b[1;32m      4\u001b[0m         \u001b[0mprint\u001b[0m\u001b[0;34m(\u001b[0m\u001b[0mcount\u001b[0m\u001b[0;34m)\u001b[0m\u001b[0;34m\u001b[0m\u001b[0;34m\u001b[0m\u001b[0m\n",
      "\u001b[0;31mTypeError\u001b[0m: 'in <string>' requires string as left operand, not dict"
     ]
    }
   ],
   "source": [
    "with open('R1_seq.txt', 'r') as f:\n",
    "        if barcodes in f.read():\n",
    "            count = count + 1\n",
    "        print(count)"
   ]
  },
  {
   "cell_type": "code",
   "execution_count": null,
   "id": "06a35ec9",
   "metadata": {},
   "outputs": [],
   "source": []
  }
 ],
 "metadata": {
  "kernelspec": {
   "display_name": "Python 3 (ipykernel)",
   "language": "python",
   "name": "python3"
  },
  "language_info": {
   "codemirror_mode": {
    "name": "ipython",
    "version": 3
   },
   "file_extension": ".py",
   "mimetype": "text/x-python",
   "name": "python",
   "nbconvert_exporter": "python",
   "pygments_lexer": "ipython3",
   "version": "3.8.8"
  }
 },
 "nbformat": 4,
 "nbformat_minor": 5
}
