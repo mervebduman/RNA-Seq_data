{
 "cells": [
  {
   "cell_type": "code",
   "execution_count": 6,
   "id": "69d3e3d6",
   "metadata": {},
   "outputs": [],
   "source": [
    "import mmap"
   ]
  },
  {
   "cell_type": "code",
   "execution_count": 7,
   "id": "b42c117f",
   "metadata": {},
   "outputs": [
    {
     "ename": "PermissionError",
     "evalue": "[Errno 13] Permission denied",
     "output_type": "error",
     "traceback": [
      "\u001b[0;31m---------------------------------------------------------------------------\u001b[0m",
      "\u001b[0;31mPermissionError\u001b[0m                           Traceback (most recent call last)",
      "\u001b[0;32m/var/folders/r9/yr71vk1x07q8tkck__lk08t00000gn/T/ipykernel_24126/2260475012.py\u001b[0m in \u001b[0;36m<module>\u001b[0;34m\u001b[0m\n\u001b[1;32m      1\u001b[0m \u001b[0;32mwith\u001b[0m \u001b[0mopen\u001b[0m\u001b[0;34m(\u001b[0m\u001b[0;34m'test_seq.txt'\u001b[0m\u001b[0;34m,\u001b[0m \u001b[0;34m'r'\u001b[0m\u001b[0;34m)\u001b[0m \u001b[0;32mas\u001b[0m \u001b[0mf\u001b[0m\u001b[0;34m:\u001b[0m\u001b[0;34m\u001b[0m\u001b[0;34m\u001b[0m\u001b[0m\n\u001b[1;32m      2\u001b[0m     \u001b[0;31m# memory-map the file, size 0 means whole file\u001b[0m\u001b[0;34m\u001b[0m\u001b[0;34m\u001b[0m\u001b[0;34m\u001b[0m\u001b[0m\n\u001b[0;32m----> 3\u001b[0;31m     \u001b[0mmm\u001b[0m \u001b[0;34m=\u001b[0m \u001b[0mmmap\u001b[0m\u001b[0;34m.\u001b[0m\u001b[0mmmap\u001b[0m\u001b[0;34m(\u001b[0m\u001b[0mf\u001b[0m\u001b[0;34m.\u001b[0m\u001b[0mfileno\u001b[0m\u001b[0;34m(\u001b[0m\u001b[0;34m)\u001b[0m\u001b[0;34m,\u001b[0m \u001b[0;36m0\u001b[0m\u001b[0;34m)\u001b[0m\u001b[0;34m\u001b[0m\u001b[0;34m\u001b[0m\u001b[0m\n\u001b[0m\u001b[1;32m      4\u001b[0m     \u001b[0;31m# read content via standard file methods\u001b[0m\u001b[0;34m\u001b[0m\u001b[0;34m\u001b[0m\u001b[0;34m\u001b[0m\u001b[0m\n\u001b[1;32m      5\u001b[0m     \u001b[0mprint\u001b[0m\u001b[0;34m(\u001b[0m\u001b[0mmm\u001b[0m\u001b[0;34m.\u001b[0m\u001b[0mreadline\u001b[0m\u001b[0;34m(\u001b[0m\u001b[0;34m)\u001b[0m\u001b[0;34m)\u001b[0m\u001b[0;34m\u001b[0m\u001b[0;34m\u001b[0m\u001b[0m\n",
      "\u001b[0;31mPermissionError\u001b[0m: [Errno 13] Permission denied"
     ]
    }
   ],
   "source": [
    "with open('test_seq.txt', 'r') as f:\n",
    "    # memory-map the file, size 0 means whole file\n",
    "    mm = mmap.mmap(f.fileno(), 0)\n",
    "    # read content via standard file methods\n",
    "    print(mm.readline())\n",
    "    # close the map\n",
    "    mm.close()"
   ]
  },
  {
   "cell_type": "code",
   "execution_count": 17,
   "id": "07aba902",
   "metadata": {},
   "outputs": [
    {
     "ename": "PermissionError",
     "evalue": "[Errno 13] Permission denied",
     "output_type": "error",
     "traceback": [
      "\u001b[0;31m---------------------------------------------------------------------------\u001b[0m",
      "\u001b[0;31mPermissionError\u001b[0m                           Traceback (most recent call last)",
      "\u001b[0;32m/var/folders/r9/yr71vk1x07q8tkck__lk08t00000gn/T/ipykernel_24126/118163122.py\u001b[0m in \u001b[0;36m<module>\u001b[0;34m\u001b[0m\n\u001b[1;32m      1\u001b[0m \u001b[0;32mwith\u001b[0m \u001b[0mopen\u001b[0m\u001b[0;34m(\u001b[0m\u001b[0;34m'test_seq.txt'\u001b[0m\u001b[0;34m,\u001b[0m \u001b[0;34m'r'\u001b[0m\u001b[0;34m)\u001b[0m \u001b[0;32mas\u001b[0m \u001b[0mfile\u001b[0m\u001b[0;34m:\u001b[0m\u001b[0;34m\u001b[0m\u001b[0;34m\u001b[0m\u001b[0m\n\u001b[0;32m----> 2\u001b[0;31m     \u001b[0mmm\u001b[0m \u001b[0;34m=\u001b[0m \u001b[0mmmap\u001b[0m\u001b[0;34m.\u001b[0m\u001b[0mmmap\u001b[0m\u001b[0;34m(\u001b[0m\u001b[0mfile\u001b[0m\u001b[0;34m.\u001b[0m\u001b[0mfileno\u001b[0m\u001b[0;34m(\u001b[0m\u001b[0;34m)\u001b[0m\u001b[0;34m,\u001b[0m \u001b[0;36m0\u001b[0m\u001b[0;34m)\u001b[0m\u001b[0;34m\u001b[0m\u001b[0;34m\u001b[0m\u001b[0m\n\u001b[0m\u001b[1;32m      3\u001b[0m     \u001b[0;31m#mmap.mmap(file.fileno(), 0, access=mmap.ACCESS_READ) as s:\u001b[0m\u001b[0;34m\u001b[0m\u001b[0;34m\u001b[0m\u001b[0;34m\u001b[0m\u001b[0m\n\u001b[1;32m      4\u001b[0m     \u001b[0;32mif\u001b[0m \u001b[0mmm\u001b[0m\u001b[0;34m.\u001b[0m\u001b[0mfind\u001b[0m\u001b[0;34m(\u001b[0m\u001b[0;34m'GGAGGGTTGCAGGCTACACAGGTTACGCTCACCACCACACACACCCCNGGTTACGCTNGCCTGNGTNNAGATCGNANNANCANNCGTCNGAANTNCNNTCNCNNTCCTTTATCTCGTATGNNNTNNNCNGCTNGAANAANAAAAGGNGGG'\u001b[0m\u001b[0;34m)\u001b[0m \u001b[0;34m!=\u001b[0m \u001b[0;34m-\u001b[0m\u001b[0;36m1\u001b[0m\u001b[0;34m:\u001b[0m\u001b[0;34m\u001b[0m\u001b[0;34m\u001b[0m\u001b[0m\n\u001b[1;32m      5\u001b[0m         \u001b[0mprint\u001b[0m\u001b[0;34m(\u001b[0m\u001b[0;34m'true'\u001b[0m\u001b[0;34m)\u001b[0m\u001b[0;34m\u001b[0m\u001b[0;34m\u001b[0m\u001b[0m\n",
      "\u001b[0;31mPermissionError\u001b[0m: [Errno 13] Permission denied"
     ]
    }
   ],
   "source": [
    "with open('test_seq.txt', 'r') as file:\n",
    "    mm = mmap.mmap(file.fileno(), 0)\n",
    "    #mmap.mmap(file.fileno(), 0, access=mmap.ACCESS_READ) as s:\n",
    "    if mm.find('GGAGGGTTGCAGGCTACACAGGTTACGCTCACCACCACACACACCCCNGGTTACGCTNGCCTGNGTNNAGATCGNANNANCANNCGTCNGAANTNCNNTCNCNNTCCTTTATCTCGTATGNNNTNNNCNGCTNGAANAANAAAAGGNGGG') != -1:\n",
    "        print('true')"
   ]
  },
  {
   "cell_type": "code",
   "execution_count": 18,
   "id": "cce21b06",
   "metadata": {},
   "outputs": [
    {
     "name": "stdout",
     "output_type": "stream",
     "text": [
      "true\n"
     ]
    }
   ],
   "source": [
    "with open('test_seq.txt') as f:\n",
    "    if 'GGAGGGTTGCAGGCTACACAGGTTACGCTCACCACCACACACACCCCNGGTTACGCTNGCCTGNGTNNAGATCGNANNANCANNCGTCNGAANTNCNNTCNCNNTCCTTTATCTCGTATGNNNTNNNCNGCTNGAANAANAAAAGGNGGG' in f.read():\n",
    "        print(\"true\")"
   ]
  },
  {
   "cell_type": "code",
   "execution_count": 19,
   "id": "bf313c60",
   "metadata": {},
   "outputs": [
    {
     "name": "stdout",
     "output_type": "stream",
     "text": [
      "true\n"
     ]
    }
   ],
   "source": [
    "with open('test_seq.txt') as f:\n",
    "    if 'GGAGGGTTGCAGG' in f.read():\n",
    "        print(\"true\")"
   ]
  },
  {
   "cell_type": "code",
   "execution_count": 48,
   "id": "e4def59a",
   "metadata": {},
   "outputs": [
    {
     "name": "stdout",
     "output_type": "stream",
     "text": [
      "CCACCTTCTCGATGCGCATTC\n",
      "\n",
      "CCACCAGTAGCATGCGCATTC\n",
      "\n",
      "CCACCTAACGCATGCGCATTC\n",
      "\n",
      "CCAGGCCGATTATGCGCATTC\n",
      "\n",
      "CCACGTTCGTCATGCGCATTC\n",
      "\n",
      "CCAGCCACCTTAGCGTAACCT\n",
      "\n",
      "CCACTCAGGCAAGCGTAACCT\n",
      "\n",
      "CCAGTACAGCGAGCGTAACCT\n",
      "\n",
      "CCACTCGAGCTAGCGTAACCT\n",
      "\n",
      "CCAGCGACACAAGCGTAACCT\n"
     ]
    }
   ],
   "source": [
    "barcodes = []\n",
    "with open('barcodes.fa', 'r') as f:\n",
    "    lines = f.readlines()\n",
    "    for line in lines:\n",
    "        if not line.startswith('>'):\n",
    "            print(line)\n",
    "            barcodes.append(line.strip())"
   ]
  },
  {
   "cell_type": "code",
   "execution_count": 49,
   "id": "1e3025c1",
   "metadata": {},
   "outputs": [
    {
     "data": {
      "text/plain": [
       "['CCACCTTCTCGATGCGCATTC',\n",
       " 'CCACCAGTAGCATGCGCATTC',\n",
       " 'CCACCTAACGCATGCGCATTC',\n",
       " 'CCAGGCCGATTATGCGCATTC',\n",
       " 'CCACGTTCGTCATGCGCATTC',\n",
       " 'CCAGCCACCTTAGCGTAACCT',\n",
       " 'CCACTCAGGCAAGCGTAACCT',\n",
       " 'CCAGTACAGCGAGCGTAACCT',\n",
       " 'CCACTCGAGCTAGCGTAACCT',\n",
       " 'CCAGCGACACAAGCGTAACCT']"
      ]
     },
     "execution_count": 49,
     "metadata": {},
     "output_type": "execute_result"
    }
   ],
   "source": [
    "barcodes"
   ]
  },
  {
   "cell_type": "code",
   "execution_count": 19,
   "id": "026db5c8",
   "metadata": {},
   "outputs": [
    {
     "name": "stdout",
     "output_type": "stream",
     "text": [
      "true\n"
     ]
    }
   ],
   "source": [
    "with open('R1_seq.txt') as f:\n",
    "    if 'GGAGGGTTGCAGG' in f.read():\n",
    "        print(\"true\")"
   ]
  },
  {
   "cell_type": "code",
   "execution_count": null,
   "id": "728a2a5d",
   "metadata": {},
   "outputs": [],
   "source": []
  }
 ],
 "metadata": {
  "kernelspec": {
   "display_name": "Python 3 (ipykernel)",
   "language": "python",
   "name": "python3"
  },
  "language_info": {
   "codemirror_mode": {
    "name": "ipython",
    "version": 3
   },
   "file_extension": ".py",
   "mimetype": "text/x-python",
   "name": "python",
   "nbconvert_exporter": "python",
   "pygments_lexer": "ipython3",
   "version": "3.8.8"
  }
 },
 "nbformat": 4,
 "nbformat_minor": 5
}
