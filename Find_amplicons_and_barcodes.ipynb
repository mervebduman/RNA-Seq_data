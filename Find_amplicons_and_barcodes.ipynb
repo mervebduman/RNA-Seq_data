{
 "cells": [
  {
   "cell_type": "code",
   "execution_count": null,
   "id": "69d3e3d6",
   "metadata": {},
   "outputs": [],
   "source": [
    "import mmap"
   ]
  },
  {
   "cell_type": "code",
   "execution_count": null,
   "id": "b42c117f",
   "metadata": {},
   "outputs": [],
   "source": [
    "with open('test_seq.txt', 'r') as f:\n",
    "    # memory-map the file, size 0 means whole file\n",
    "    mm = mmap.mmap(f.fileno(), 0)\n",
    "    # read content via standard file methods\n",
    "    print(mm.readline())\n",
    "    # close the map\n",
    "    mm.close()"
   ]
  },
  {
   "cell_type": "code",
   "execution_count": null,
   "id": "07aba902",
   "metadata": {},
   "outputs": [],
   "source": [
    "with open('test_seq.txt', 'r') as file:\n",
    "    mm = mmap.mmap(file.fileno(), 0)\n",
    "    #mmap.mmap(file.fileno(), 0, access=mmap.ACCESS_READ) as s:\n",
    "    if mm.find('GGAGGGTTGCAGGCTACACAGGTTACGCTCACCACCACACACACCCCNGGTTACGCTNGCCTGNGTNNAGATCGNANNANCANNCGTCNGAANTNCNNTCNCNNTCCTTTATCTCGTATGNNNTNNNCNGCTNGAANAANAAAAGGNGGG') != -1:\n",
    "        print('true')"
   ]
  },
  {
   "cell_type": "code",
   "execution_count": null,
   "id": "cce21b06",
   "metadata": {},
   "outputs": [],
   "source": [
    "with open('test_seq.txt') as f:\n",
    "    if 'GGAGGGTTGCAGGCTACACAGGTTACGCTCACCACCACACACACCCCNGGTTACGCTNGCCTGNGTNNAGATCGNANNANCANNCGTCNGAANTNCNNTCNCNNTCCTTTATCTCGTATGNNNTNNNCNGCTNGAANAANAAAAGGNGGG' in f.read():\n",
    "        print(\"true\")"
   ]
  },
  {
   "cell_type": "code",
   "execution_count": null,
   "id": "bf313c60",
   "metadata": {},
   "outputs": [],
   "source": [
    "with open('test_seq.txt') as f:\n",
    "    if 'GGAGGGTTGCAGG' in f.read():\n",
    "        print(\"true\")"
   ]
  },
  {
   "cell_type": "code",
   "execution_count": null,
   "id": "e4def59a",
   "metadata": {},
   "outputs": [],
   "source": [
    "barcodes = []\n",
    "with open('barcodes.fa', 'r') as f:\n",
    "    lines = f.readlines()\n",
    "    for line in lines:\n",
    "        if not line.startswith('>'):\n",
    "            print(line)\n",
    "            barcodes.append(line.strip())"
   ]
  },
  {
   "cell_type": "code",
   "execution_count": null,
   "id": "1e3025c1",
   "metadata": {},
   "outputs": [],
   "source": [
    "barcodes"
   ]
  },
  {
   "cell_type": "code",
   "execution_count": null,
   "id": "026db5c8",
   "metadata": {},
   "outputs": [],
   "source": [
    "with open('R1_seq.txt') as f:\n",
    "    if 'GGAGGGTTGCAGG' in f.read():\n",
    "        print(\"true\")"
   ]
  },
  {
   "cell_type": "code",
   "execution_count": 4,
   "id": "af96a101",
   "metadata": {},
   "outputs": [
    {
     "name": "stdout",
     "output_type": "stream",
     "text": [
      "{'>PER1\\n': 'TGTTGGGCCGCCACAAAGTAcgcacggcccccctgaatgaggacgtgttcactcccccggcccccagcccagctccctccctggacactgatatccaggagcTGTCAGAGCAGATCCACCGG\\n', '>PER2\\n': 'CTACCACCCCTTCCGCATGAcgccctacctggtcaaggtgcgggaccaacaaggtgctgagagtcagctttgctgccttctgctggcagagagagtgcactctggttatgaagcccctagaattcctcctgaaaagagaatttttacaaccacccatacaccaaattgtttgttccaggaTGTGGATGAAAGGGCGGTCC\\n', '>PER3\\n': 'TACATCACCCTGCCCAGCCAgaattggaatcggaaccttgctgtctcactgtggttgaaaagattcactctggttatgaagctcctcggatcccagtgaataaaagaatcTTCACCACCACACACACCCC\\n', '>CRY1\\n': 'GCTTCGTCAGGAGGGTTGGAttcatcatctagccaggcatgcagttgcttgcttcctgacacgaggggacctgtggattagttgggaagaaggaatgaaggtatttgaagaattattgcttgatgcagattggagcataaaTGCTGGAAGTTGGATGTGGCT\\n', '>CRY2\\n': 'ATCATCGTGGGAGGGGAGCAgggcacaggggatggtgtgcattcagagcattgggttgggggcttccctgttcccTCAGCCCCAGTCGAGAGGAA\\n', '>ARNTL\\n': 'AGGCCCCTAACTCCTCCCAAgctggatctggggtgtaagaactgtgacttcagatcatccaatggcagaccagagaatggacatttcttcaaccatcagTGATTTCATGTCCCCGGGCC\\n', '>NR1D1\\n': 'CCTAAGCCGCACCACCTACAgcctgcaggagcttggtgccatgggcatgggagacctgctcagtgccatgttcgacttcagcgagaagcTCAACTCCCTGGCGCTTACC\\n', '>NR1D2\\n': 'CGAGTGCACCTGGGATGACAaaaagtcatagtggtgtgacaaaatttagtggcatggttctactgtgtaaagtcTGTGGGGATGTGGCGTCAG\\n', '>TEF\\n': 'CACGCACCTCATTCTCCCCAgacagtctttgagtaacatctgttcccatcttccttggaagcaggacacaccagctcctccgtcagtgtctgcatgggtagcaggctgcaggagtggggTCTCTGCACAGCCTGGGATG\\n', '>DBP\\n': 'CCGACCGCTTGATCTGGACAccccctcgcccagattgcatgatctcccgggaccctcttgagttgcacgtttctgcaccgaggacctcaaatccccgtcgctcctaggatttgcagcgttctggatacTGGAGGGTTGCAGGCTACAC\\n', '>GAPDH\\n': 'TGGGGAAGGTGAAGGTCGGAgtcaacggatttggtcgtattgggcgcctggtcaccagggctgcttttaactctggtaaagtggatattgttgccatcaatgaccccttcattgacctcaactacatggtttacatgttccaatatgattccacccatggcaaattccatggcaccgTCAAGGCTGAGAACGGGAAGC\\n', '>CLTC\\n': 'CGTGTGGTGGGAGCTATGCAgctatattctgtagataggaaagtgtctcagcccattgaaggacatgcagctagctttgcacagtttaagatggaaggaaatgcagaagaatcaacgttattTTGTTTTGCAGTTCGGGGCC'}\n"
     ]
    }
   ],
   "source": [
    "amplicons = {}\n",
    "with open('amplicons.fa') as f:\n",
    "    for key, value in zip(f, f):\n",
    "        amplicons[key] = value\n",
    "    \n",
    "print(amplicons)"
   ]
  },
  {
   "cell_type": "code",
   "execution_count": 5,
   "id": "1fce7482",
   "metadata": {},
   "outputs": [
    {
     "data": {
      "text/plain": [
       "{'>PER1': 'TGTTGGGCCGCCACAAAGTAcgcacggcccccctgaatgaggacgtgttcactcccccggcccccagcccagctccctccctggacactgatatccaggagcTGTCAGAGCAGATCCACCGG\\n',\n",
       " '>PER2': 'CTACCACCCCTTCCGCATGAcgccctacctggtcaaggtgcgggaccaacaaggtgctgagagtcagctttgctgccttctgctggcagagagagtgcactctggttatgaagcccctagaattcctcctgaaaagagaatttttacaaccacccatacaccaaattgtttgttccaggaTGTGGATGAAAGGGCGGTCC\\n',\n",
       " '>PER3': 'TACATCACCCTGCCCAGCCAgaattggaatcggaaccttgctgtctcactgtggttgaaaagattcactctggttatgaagctcctcggatcccagtgaataaaagaatcTTCACCACCACACACACCCC\\n',\n",
       " '>CRY1': 'GCTTCGTCAGGAGGGTTGGAttcatcatctagccaggcatgcagttgcttgcttcctgacacgaggggacctgtggattagttgggaagaaggaatgaaggtatttgaagaattattgcttgatgcagattggagcataaaTGCTGGAAGTTGGATGTGGCT\\n',\n",
       " '>CRY2': 'ATCATCGTGGGAGGGGAGCAgggcacaggggatggtgtgcattcagagcattgggttgggggcttccctgttcccTCAGCCCCAGTCGAGAGGAA\\n',\n",
       " '>ARNTL': 'AGGCCCCTAACTCCTCCCAAgctggatctggggtgtaagaactgtgacttcagatcatccaatggcagaccagagaatggacatttcttcaaccatcagTGATTTCATGTCCCCGGGCC\\n',\n",
       " '>NR1D1': 'CCTAAGCCGCACCACCTACAgcctgcaggagcttggtgccatgggcatgggagacctgctcagtgccatgttcgacttcagcgagaagcTCAACTCCCTGGCGCTTACC\\n',\n",
       " '>NR1D2': 'CGAGTGCACCTGGGATGACAaaaagtcatagtggtgtgacaaaatttagtggcatggttctactgtgtaaagtcTGTGGGGATGTGGCGTCAG\\n',\n",
       " '>TEF': 'CACGCACCTCATTCTCCCCAgacagtctttgagtaacatctgttcccatcttccttggaagcaggacacaccagctcctccgtcagtgtctgcatgggtagcaggctgcaggagtggggTCTCTGCACAGCCTGGGATG\\n',\n",
       " '>DBP': 'CCGACCGCTTGATCTGGACAccccctcgcccagattgcatgatctcccgggaccctcttgagttgcacgtttctgcaccgaggacctcaaatccccgtcgctcctaggatttgcagcgttctggatacTGGAGGGTTGCAGGCTACAC\\n',\n",
       " '>GAPDH': 'TGGGGAAGGTGAAGGTCGGAgtcaacggatttggtcgtattgggcgcctggtcaccagggctgcttttaactctggtaaagtggatattgttgccatcaatgaccccttcattgacctcaactacatggtttacatgttccaatatgattccacccatggcaaattccatggcaccgTCAAGGCTGAGAACGGGAAGC\\n',\n",
       " '>CLTC': 'CGTGTGGTGGGAGCTATGCAgctatattctgtagataggaaagtgtctcagcccattgaaggacatgcagctagctttgcacagtttaagatggaaggaaatgcagaagaatcaacgttattTTGTTTTGCAGTTCGGGGCC'}"
      ]
     },
     "execution_count": 5,
     "metadata": {},
     "output_type": "execute_result"
    }
   ],
   "source": [
    "with open('amplicons.fa') as f:\n",
    "    amplicons = {name.strip():str(seq) for name, seq in zip(f, f)}\n",
    "\n",
    "amplicons"
   ]
  },
  {
   "cell_type": "code",
   "execution_count": null,
   "id": "23f99a00",
   "metadata": {},
   "outputs": [],
   "source": []
  }
 ],
 "metadata": {
  "kernelspec": {
   "display_name": "Python 3 (ipykernel)",
   "language": "python",
   "name": "python3"
  },
  "language_info": {
   "codemirror_mode": {
    "name": "ipython",
    "version": 3
   },
   "file_extension": ".py",
   "mimetype": "text/x-python",
   "name": "python",
   "nbconvert_exporter": "python",
   "pygments_lexer": "ipython3",
   "version": "3.8.8"
  }
 },
 "nbformat": 4,
 "nbformat_minor": 5
}
